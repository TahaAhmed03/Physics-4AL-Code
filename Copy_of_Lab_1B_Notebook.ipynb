{
  "nbformat": 4,
  "nbformat_minor": 0,
  "metadata": {
    "colab": {
      "name": "Copy of Lab 1B Notebook.ipynb",
      "provenance": [],
      "collapsed_sections": []
    },
    "kernelspec": {
      "name": "python3",
      "display_name": "Python 3"
    }
  },
  "cells": [
    {
      "cell_type": "markdown",
      "metadata": {
        "id": "-EM3FcfSiEUB"
      },
      "source": [
        "## Arrays and plotting"
      ]
    },
    {
      "cell_type": "markdown",
      "metadata": {
        "id": "9org2Yb2iEQ_"
      },
      "source": [
        "**Problem 1**\n",
        "\n",
        "The following are the x and y coordinates for a number of objects. Run the cell below"
      ]
    },
    {
      "cell_type": "code",
      "metadata": {
        "id": "bJhGKo9niEO8"
      },
      "source": [
        "import numpy as np\n",
        "positions = np.array([[2., 4.],\n",
        "             [1., 3.],\n",
        "             [7., 2.],\n",
        "             [1., 8.],\n",
        "             [9., 2.]])"
      ],
      "execution_count": null,
      "outputs": []
    },
    {
      "cell_type": "markdown",
      "metadata": {
        "id": "3fEdqClTiEMj"
      },
      "source": [
        "Calculate the distances to each of the objects from the origin"
      ]
    },
    {
      "cell_type": "code",
      "metadata": {
        "id": "u6h5DgiGiEJf",
        "colab": {
          "base_uri": "https://localhost:8080/"
        },
        "outputId": "7dc092ba-4146-476d-dd25-5cc5489b846d"
      },
      "source": [
        "# Separate out the x coordinates here\n",
        "x_coordinates = np.array([2., 1., 7., 1., 9.])\n",
        "# Separate out the y coordinates here\n",
        "y_coordinates = np.array([4., 3., 2., 8., 2.])\n",
        "# Calculate the distances from the origin\n",
        "distances = np.sqrt(x_coordinates**2.+y_coordinates**2.)\n",
        "# Print the distances\n",
        "print(distances)"
      ],
      "execution_count": null,
      "outputs": [
        {
          "output_type": "stream",
          "name": "stdout",
          "text": [
            "[4.47213595 3.16227766 7.28010989 8.06225775 9.21954446]\n"
          ]
        }
      ]
    },
    {
      "cell_type": "markdown",
      "metadata": {
        "id": "9Swy7Lbzh-EM"
      },
      "source": [
        "**Problem 2**"
      ]
    },
    {
      "cell_type": "markdown",
      "metadata": {
        "id": "5WCMjUHIh9eW"
      },
      "source": [
        "Read in the data that you downloaded from Slide 7 of lab 1B."
      ]
    },
    {
      "cell_type": "code",
      "source": [
        "# Run this cell to mount your Google Drive.\n",
        "from google.colab import drive\n",
        "drive.mount('/content/gdrive')"
      ],
      "metadata": {
        "id": "bnWf0PiIdYgx",
        "colab": {
          "base_uri": "https://localhost:8080/",
          "height": 0
        },
        "outputId": "a3b0dde1-c616-4d4e-845d-a9e6861ed7c6"
      },
      "execution_count": 15,
      "outputs": [
        {
          "output_type": "stream",
          "name": "stdout",
          "text": [
            "Drive already mounted at /content/gdrive; to attempt to forcibly remount, call drive.mount(\"/content/gdrive\", force_remount=True).\n"
          ]
        }
      ]
    },
    {
      "cell_type": "code",
      "source": [
        "# Read in data, find the right source in your google drive\n",
        "read_in_array = np.loadtxt('/content/gdrive/MyDrive/Colab Notebooks/practicelineardata.txt')"
      ],
      "metadata": {
        "id": "dc0E3VXedaRr"
      },
      "execution_count": 16,
      "outputs": []
    },
    {
      "cell_type": "markdown",
      "source": [
        "Remember from that if you have a two dimensional array, you can separate the colums or rows out using the : symbol, which indicates to grab all of the elements from a column. Separate out the first one and the second one. "
      ],
      "metadata": {
        "id": "YOZoZaFDdgpW"
      }
    },
    {
      "cell_type": "code",
      "source": [
        "# The first column is the x axis, second is y axis\n",
        "# Take all of the elements in 0th column\n",
        "x_coordinate = read_in_array[:,0]\n",
        "\n",
        "# Take all of the elements in the 1st column\n",
        "y_coordinate = read_in_array[:,1]\n"
      ],
      "metadata": {
        "id": "SrQCslPTdgJh"
      },
      "execution_count": 21,
      "outputs": []
    },
    {
      "cell_type": "markdown",
      "source": [
        "Plot a scatter plot (plt.scatter). Provide axes labels - get creative with your axes labels."
      ],
      "metadata": {
        "id": "fFTqOTrbdlIO"
      }
    },
    {
      "cell_type": "code",
      "source": [
        "import matplotlib.pyplot as plt\n",
        "\n",
        "# Make the scatter plot \n",
        "plt.scatter(x_coordinate, y_coordinate)\n",
        "\n",
        "# Label the x axis\n",
        "plt.xlabel('X-AXIS (label)')\n",
        "# Label the y axis\n",
        "plt.ylabel('Y-AXIS (label)')\n",
        "# Give the plots a title\n",
        "plt.title('MY TEST PLOT')\n"
      ],
      "metadata": {
        "id": "6t6DMDFmdov-",
        "colab": {
          "base_uri": "https://localhost:8080/",
          "height": 312
        },
        "outputId": "8a7b8c7f-a16d-43a0-a3f4-a3eb51dc818e"
      },
      "execution_count": 22,
      "outputs": [
        {
          "output_type": "execute_result",
          "data": {
            "text/plain": [
              "Text(0.5, 1.0, 'MY TEST PLOT')"
            ]
          },
          "metadata": {},
          "execution_count": 22
        },
        {
          "output_type": "display_data",
          "data": {
            "text/plain": [
              "<Figure size 432x288 with 1 Axes>"
            ],
            "image/png": "[encoded data removed]"
          },
          "metadata": {
            "needs_background": "light"
          }
        }
      ]
    },
    {
      "cell_type": "markdown",
      "source": [
        "Use polyfit to generate the best fit line and plot it along with everything you plotted in the previous cell. Use a legend to differentiate between the data and the polyfit curve."
      ],
      "metadata": {
        "id": "IpYNCxvcdqhq"
      }
    },
    {
      "cell_type": "code",
      "source": [
        "# Copy and paste everything from the previous cell under this line\n",
        "import matplotlib.pyplot as plt\n",
        "\n",
        "# Make the scatter plot \n",
        "plt.scatter(x_coordinate, y_coordinate)\n",
        "\n",
        "# Label the x axis\n",
        "plt.xlabel('X-AXIS (label)')\n",
        "# Label the y axis\n",
        "plt.ylabel('Y-AXIS (label)')\n",
        "# Give the plots a title\n",
        "plt.title('MY TEST PLOT')\n",
        "\n",
        "# # np.polyfit() requires at least 3 arguments or inputs\n",
        "# The x-axis data, the y-axis data and the degree of the polynomial that we are trying to fit - save the results in an array\n",
        "\n",
        "coeff_linear=np.polyfit(x_coordinate,y_coordinate,1)\n",
        "\n",
        "# The zeroth element is the slope and first element is the intercept\n",
        "# plt.plot() generates a connected line - plot the best fit line\n",
        "\n",
        "plt.plot(x_coordinate,coeff_linear[0]*x_coordinate+coeff_linear[1], label = 'line of best fit', color = 'green')\n",
        "\n",
        "# Create labels in both the plt.scatter() and plt.plot() to apply for the legend\n",
        "\n",
        "plt.scatter(x_coordinate, y_coordinate, label = 'scatter', color = 'red')\n",
        "\n",
        "# Remember to use plt.legend()\n",
        "plt.legend()"
      ],
      "metadata": {
        "id": "OMZFCYXKdtvE",
        "colab": {
          "base_uri": "https://localhost:8080/",
          "height": 312
        },
        "outputId": "8d34aed7-d844-4aea-8d4a-68436a56e6cf"
      },
      "execution_count": 25,
      "outputs": [
        {
          "output_type": "execute_result",
          "data": {
            "text/plain": [
              "<matplotlib.legend.Legend at 0x7f891805be50>"
            ]
          },
          "metadata": {},
          "execution_count": 25
        },
        {
          "output_type": "display_data",
          "data": {
            "text/plain": [
              "<Figure size 432x288 with 1 Axes>"
            ],
            "image/png": "[encoded data removed]"
          },
          "metadata": {
            "needs_background": "light"
          }
        }
      ]
    },
    {
      "cell_type": "markdown",
      "metadata": {
        "id": "a7GQ8xJnh_3T"
      },
      "source": [
        "**Problem 3**"
      ]
    },
    {
      "cell_type": "markdown",
      "metadata": {
        "id": "exoP6NCqiD6b"
      },
      "source": [
        "The position of an object in motion can be given by $x=x_0 + ut + \\frac{1}{2}at^{2}$. Plot the position of the object (position on y axis and time on x axis) starting from t=0 to t=5 seconds for the follow case. (Use np.linspace to create maybe 100 points for time on the x-axis)\n",
        "\n",
        "Object falls freely from a height of 500 metres. Assume acceleration due to gravity as 9.8 $m/s^2$."
      ]
    },
    {
      "cell_type": "code",
      "metadata": {
        "id": "FFJbJ141iD2A",
        "colab": {
          "base_uri": "https://localhost:8080/",
          "height": 312
        },
        "outputId": "ea0a4cac-3ffe-4fa7-d494-1280d46fed75"
      },
      "source": [
        "import matplotlib.pyplot as plt\n",
        "# x-array\n",
        "x_axis = np.linspace(0., 5., 100)\n",
        "# y-array\n",
        "y_axis = 500 - ((x_axis)**2.)*4.9\n",
        "\n",
        "# Make the continuous plot\n",
        "plt.plot(x_axis, y_axis, label = 'motion curve', color = 'purple')\n",
        "\n",
        "# Label the x axis\n",
        "plt.xlabel('Position Distance')\n",
        "# Label the y axis\n",
        "plt.ylabel('Position Height')\n",
        "# Give the plots a title\n",
        "plt.title('Motion Plot')\n"
      ],
      "execution_count": 26,
      "outputs": [
        {
          "output_type": "execute_result",
          "data": {
            "text/plain": [
              "Text(0.5, 1.0, 'Motion Plot')"
            ]
          },
          "metadata": {},
          "execution_count": 26
        },
        {
          "output_type": "display_data",
          "data": {
            "text/plain": [
              "<Figure size 432x288 with 1 Axes>"
            ],
            "image/png": "[encoded data removed]"
          },
          "metadata": {
            "needs_background": "light"
          }
        }
      ]
    },
    {
      "cell_type": "markdown",
      "metadata": {
        "id": "1xBxsBzwZ-jd"
      },
      "source": [
        "*Developed by Pauline Arriaga* \n",
        "\n",
        "*rev. 2.0 S.Gowda 1-06-2022*\n",
        "\n",
        "*© Regents of the University of California*\n"
      ]
    }
  ]
}